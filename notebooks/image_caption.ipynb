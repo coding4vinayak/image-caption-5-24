{
 "cells": [
  {
   "cell_type": "code",
   "execution_count": null,
   "metadata": {},
   "outputs": [],
   "source": []
  },
  {
   "cell_type": "code",
   "execution_count": 1,
   "metadata": {},
   "outputs": [
    {
     "name": "stdout",
     "output_type": "stream",
     "text": [
      "Dataset URL: https://www.kaggle.com/datasets/adityajn105/glove6b50d\n",
      "License(s): CC0-1.0\n",
      "Downloading glove6b50d.zip to /workspace/image-caption-5-24\n",
      " 75%|████████████████████████████▋         | 51.0M/67.7M [00:00<00:00, 52.1MB/s]\n",
      "100%|██████████████████████████████████████| 67.7M/67.7M [00:01<00:00, 67.7MB/s]\n"
     ]
    }
   ],
   "source": [
    "#! kaggle datasets download -d adityajn105/glove6b50d"
   ]
  },
  {
   "cell_type": "code",
   "execution_count": 2,
   "metadata": {},
   "outputs": [
    {
     "name": "stdout",
     "output_type": "stream",
     "text": [
      "ZIP file extracted successfully into: data\n"
     ]
    }
   ],
   "source": [
    "'''\n",
    "import zipfile\n",
    "import os\n",
    "\n",
    "# Path to the ZIP file\n",
    "zip_file_path = 'data/glove6b50d.zip'\n",
    "\n",
    "# Directory to extract the ZIP file into\n",
    "target_directory = 'data'\n",
    "\n",
    "# Create the target directory if it doesn't exist\n",
    "if not os.path.exists(target_directory):\n",
    "    os.makedirs(target_directory)\n",
    "\n",
    "# Open the ZIP file\n",
    "with zipfile.ZipFile(zip_file_path, 'r') as zip_ref:\n",
    "    # Extract all contents into the target directory\n",
    "    zip_ref.extractall(target_directory)\n",
    "\n",
    "print(\"ZIP file extracted successfully into:\", target_directory)\n",
    "'''"
   ]
  },
  {
   "cell_type": "code",
   "execution_count": null,
   "metadata": {},
   "outputs": [],
   "source": []
  },
  {
   "cell_type": "code",
   "execution_count": null,
   "metadata": {},
   "outputs": [],
   "source": []
  }
 ],
 "metadata": {
  "language_info": {
   "name": "python"
  }
 },
 "nbformat": 4,
 "nbformat_minor": 2
}
